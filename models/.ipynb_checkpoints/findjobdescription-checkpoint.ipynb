{
 "cells": [
  {
   "cell_type": "code",
   "execution_count": 1,
   "id": "0e72f940-f14b-48b7-99b7-df5c279c767e",
   "metadata": {},
   "outputs": [
    {
     "name": "stderr",
     "output_type": "stream",
     "text": [
      "2023-08-23 09:08:07.294636: I tensorflow/tsl/cuda/cudart_stub.cc:28] Could not find cuda drivers on your machine, GPU will not be used.\n",
      "2023-08-23 09:08:07.341515: I tensorflow/tsl/cuda/cudart_stub.cc:28] Could not find cuda drivers on your machine, GPU will not be used.\n",
      "2023-08-23 09:08:07.343541: I tensorflow/core/platform/cpu_feature_guard.cc:182] This TensorFlow binary is optimized to use available CPU instructions in performance-critical operations.\n",
      "To enable the following instructions: AVX2 FMA, in other operations, rebuild TensorFlow with the appropriate compiler flags.\n",
      "2023-08-23 09:08:08.300955: W tensorflow/compiler/tf2tensorrt/utils/py_utils.cc:38] TF-TRT Warning: Could not find TensorRT\n"
     ]
    }
   ],
   "source": [
    "# import des librairies \n",
    "import pandas as pd\n",
    "import matplotlib.pyplot as plt\n",
    "import math\n",
    "import numpy as np\n",
    "import pickle\n",
    "\n",
    "# clean text data\n",
    "import re\n",
    "import nltk\n",
    "from nltk.corpus import stopwords\n",
    "from nltk.stem import WordNetLemmatizer\n",
    "from sklearn.model_selection import train_test_split\n",
    "\n",
    "# model \n",
    "from tensorflow.keras.preprocessing.text import Tokenizer\n",
    "from tensorflow.keras.models import Model\n",
    "from tensorflow.keras.layers import Input, LSTM, Dense, Embedding, Concatenate\n",
    "from tensorflow.keras.utils import to_categorical\n",
    "from tensorflow.keras.preprocessing.sequence import pad_sequences"
   ]
  },
  {
   "cell_type": "code",
   "execution_count": 7,
   "id": "7dccd4b9-ba53-47e9-806c-963e1974932f",
   "metadata": {},
   "outputs": [
    {
     "data": {
      "text/html": [
       "<div>\n",
       "<style scoped>\n",
       "    .dataframe tbody tr th:only-of-type {\n",
       "        vertical-align: middle;\n",
       "    }\n",
       "\n",
       "    .dataframe tbody tr th {\n",
       "        vertical-align: top;\n",
       "    }\n",
       "\n",
       "    .dataframe thead th {\n",
       "        text-align: right;\n",
       "    }\n",
       "</style>\n",
       "<table border=\"1\" class=\"dataframe\">\n",
       "  <thead>\n",
       "    <tr style=\"text-align: right;\">\n",
       "      <th></th>\n",
       "      <th>jobs</th>\n",
       "      <th>description</th>\n",
       "      <th>ID_dep</th>\n",
       "      <th>ville</th>\n",
       "      <th>date</th>\n",
       "      <th>experience</th>\n",
       "      <th>skills</th>\n",
       "      <th>tools</th>\n",
       "      <th>industry</th>\n",
       "      <th>company</th>\n",
       "      <th>company_description</th>\n",
       "    </tr>\n",
       "  </thead>\n",
       "  <tbody>\n",
       "    <tr>\n",
       "      <th>0</th>\n",
       "      <td>Data Engineer sénior (F/H) CDI (H/F)</td>\n",
       "      <td>En tant que Data Engineer chez Quantmetry, vou...</td>\n",
       "      <td>75</td>\n",
       "      <td>PARIS 08</td>\n",
       "      <td>2023/07/12</td>\n",
       "      <td>5 ans</td>\n",
       "      <td>concevoir et gérer un projet, concevoir un log...</td>\n",
       "      <td>NaN</td>\n",
       "      <td>Conseil pour les affaires et autres conseils d...</td>\n",
       "      <td>QUANTMETRY</td>\n",
       "      <td>Pure player en Data et Intelligence Artificiel...</td>\n",
       "    </tr>\n",
       "    <tr>\n",
       "      <th>1</th>\n",
       "      <td>Data Consultant Stratégie Sénior (H/F)</td>\n",
       "      <td>Nous recrutons des personnes avec une appétenc...</td>\n",
       "      <td>75</td>\n",
       "      <td>PARIS 08</td>\n",
       "      <td>2023/07/12</td>\n",
       "      <td>5 ans</td>\n",
       "      <td>analyser les résultats d'un projet, décliner l...</td>\n",
       "      <td>NaN</td>\n",
       "      <td>Conseil pour les affaires et autres conseils d...</td>\n",
       "      <td>QUANTMETRY</td>\n",
       "      <td>Pure player en Data et Intelligence Artificiel...</td>\n",
       "    </tr>\n",
       "    <tr>\n",
       "      <th>2</th>\n",
       "      <td>Chef de projets Performance Durable/Energie/Da...</td>\n",
       "      <td>Intégré(e) au sein de la Direction Performance...</td>\n",
       "      <td>92</td>\n",
       "      <td>ASNIERES SUR SEINE</td>\n",
       "      <td>2023/07/13</td>\n",
       "      <td>3 ans</td>\n",
       "      <td>contrôler et faire appliquer le respect de dis...</td>\n",
       "      <td>tableau</td>\n",
       "      <td>Activités des sièges sociaux</td>\n",
       "      <td>NEXITY</td>\n",
       "      <td>Nexity est aujourd hui leader sur les différen...</td>\n",
       "    </tr>\n",
       "  </tbody>\n",
       "</table>\n",
       "</div>"
      ],
      "text/plain": [
       "                                                jobs  \\\n",
       "0               Data Engineer sénior (F/H) CDI (H/F)   \n",
       "1             Data Consultant Stratégie Sénior (H/F)   \n",
       "2  Chef de projets Performance Durable/Energie/Da...   \n",
       "\n",
       "                                         description ID_dep  \\\n",
       "0  En tant que Data Engineer chez Quantmetry, vou...     75   \n",
       "1  Nous recrutons des personnes avec une appétenc...     75   \n",
       "2  Intégré(e) au sein de la Direction Performance...     92   \n",
       "\n",
       "                ville        date experience  \\\n",
       "0            PARIS 08  2023/07/12      5 ans   \n",
       "1            PARIS 08  2023/07/12      5 ans   \n",
       "2  ASNIERES SUR SEINE  2023/07/13      3 ans   \n",
       "\n",
       "                                              skills    tools  \\\n",
       "0  concevoir et gérer un projet, concevoir un log...      NaN   \n",
       "1  analyser les résultats d'un projet, décliner l...      NaN   \n",
       "2  contrôler et faire appliquer le respect de dis...  tableau   \n",
       "\n",
       "                                            industry     company  \\\n",
       "0  Conseil pour les affaires et autres conseils d...  QUANTMETRY   \n",
       "1  Conseil pour les affaires et autres conseils d...  QUANTMETRY   \n",
       "2                       Activités des sièges sociaux      NEXITY   \n",
       "\n",
       "                                 company_description  \n",
       "0  Pure player en Data et Intelligence Artificiel...  \n",
       "1  Pure player en Data et Intelligence Artificiel...  \n",
       "2  Nexity est aujourd hui leader sur les différen...  "
      ]
     },
     "execution_count": 7,
     "metadata": {},
     "output_type": "execute_result"
    }
   ],
   "source": [
    "jobs_df = pd.read_csv(\"../data/silver_data.csv\")\n",
    "# préparer un df avec uniquement les colonnes à utiliser pour le modèle\n",
    "df = jobs_df[[\"jobs\", \"description\", \"ID_dep\", \"ville\", \"date\", \"experience\", \"skills\", \"tools\", \"industry\", \"company\", \"company_description\"]]\n",
    "df.head(3)"
   ]
  },
  {
   "cell_type": "markdown",
   "id": "55e58577-04d1-4e2c-90f1-2318cfbc4576",
   "metadata": {},
   "source": [
    "### Model"
   ]
  },
  {
   "cell_type": "markdown",
   "id": "0334ca3b-ba78-4d8c-8ec1-119d26986dff",
   "metadata": {},
   "source": [
    "Utiliser un modèle IA pour extraire les bon nom de job (ex:Data Engineer pour la Qualité Totale H/F (H/F) --> Data Engineer)"
   ]
  },
  {
   "cell_type": "code",
   "execution_count": null,
   "id": "7b1d8229-1143-4e56-88f5-42afb9aebc8a",
   "metadata": {},
   "outputs": [],
   "source": []
  }
 ],
 "metadata": {
  "kernelspec": {
   "display_name": "Python 3 (ipykernel)",
   "language": "python",
   "name": "python3"
  },
  "language_info": {
   "codemirror_mode": {
    "name": "ipython",
    "version": 3
   },
   "file_extension": ".py",
   "mimetype": "text/x-python",
   "name": "python",
   "nbconvert_exporter": "python",
   "pygments_lexer": "ipython3",
   "version": "3.8.12"
  }
 },
 "nbformat": 4,
 "nbformat_minor": 5
}
