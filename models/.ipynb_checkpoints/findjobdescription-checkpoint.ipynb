{
 "cells": [
  {
   "cell_type": "code",
   "execution_count": 2,
   "id": "6e55be06-e929-4eff-9856-c0bed3d5e0b2",
   "metadata": {},
   "outputs": [],
   "source": [
    "# import des librairies \n",
    "import pandas as pd\n",
    "import matplotlib.pyplot as plt\n",
    "import math\n",
    "import numpy as np\n",
    "import pickle\n",
    "\n",
    "# clean data\n",
    "from transformers import BertTokenizer, BertForTokenClassification, BertForSequenceClassification\n",
    "import torch\n",
    "from torch.optim import Adam\n",
    "from torch.nn import CrossEntropyLoss\n",
    "from torch.nn.functional import softmax"
   ]
  },
  {
   "cell_type": "code",
   "execution_count": 3,
   "id": "691347b8-3e4d-4d71-ab71-d7db1a66c14b",
   "metadata": {},
   "outputs": [
    {
     "data": {
      "text/html": [
       "<div>\n",
       "<style scoped>\n",
       "    .dataframe tbody tr th:only-of-type {\n",
       "        vertical-align: middle;\n",
       "    }\n",
       "\n",
       "    .dataframe tbody tr th {\n",
       "        vertical-align: top;\n",
       "    }\n",
       "\n",
       "    .dataframe thead th {\n",
       "        text-align: right;\n",
       "    }\n",
       "</style>\n",
       "<table border=\"1\" class=\"dataframe\">\n",
       "  <thead>\n",
       "    <tr style=\"text-align: right;\">\n",
       "      <th></th>\n",
       "      <th>jobs</th>\n",
       "      <th>description</th>\n",
       "      <th>ID_dep</th>\n",
       "      <th>ville</th>\n",
       "      <th>date</th>\n",
       "      <th>experience</th>\n",
       "      <th>skills</th>\n",
       "      <th>tools</th>\n",
       "      <th>industry</th>\n",
       "      <th>company</th>\n",
       "      <th>company_description</th>\n",
       "    </tr>\n",
       "  </thead>\n",
       "  <tbody>\n",
       "    <tr>\n",
       "      <th>0</th>\n",
       "      <td>Data Engineer sénior (F/H) CDI (H/F)</td>\n",
       "      <td>En tant que Data Engineer chez Quantmetry, vou...</td>\n",
       "      <td>75</td>\n",
       "      <td>PARIS 08</td>\n",
       "      <td>2023/07/12</td>\n",
       "      <td>5 ans</td>\n",
       "      <td>concevoir et gérer un projet, concevoir un log...</td>\n",
       "      <td>NaN</td>\n",
       "      <td>Conseil pour les affaires et autres conseils d...</td>\n",
       "      <td>QUANTMETRY</td>\n",
       "      <td>Pure player en Data et Intelligence Artificiel...</td>\n",
       "    </tr>\n",
       "    <tr>\n",
       "      <th>1</th>\n",
       "      <td>Data Consultant Stratégie Sénior (H/F)</td>\n",
       "      <td>Nous recrutons des personnes avec une appétenc...</td>\n",
       "      <td>75</td>\n",
       "      <td>PARIS 08</td>\n",
       "      <td>2023/07/12</td>\n",
       "      <td>5 ans</td>\n",
       "      <td>analyser les résultats d'un projet, décliner l...</td>\n",
       "      <td>NaN</td>\n",
       "      <td>Conseil pour les affaires et autres conseils d...</td>\n",
       "      <td>QUANTMETRY</td>\n",
       "      <td>Pure player en Data et Intelligence Artificiel...</td>\n",
       "    </tr>\n",
       "    <tr>\n",
       "      <th>2</th>\n",
       "      <td>Chef de projets Performance Durable/Energie/Da...</td>\n",
       "      <td>Intégré(e) au sein de la Direction Performance...</td>\n",
       "      <td>92</td>\n",
       "      <td>ASNIERES SUR SEINE</td>\n",
       "      <td>2023/07/13</td>\n",
       "      <td>3 ans</td>\n",
       "      <td>contrôler et faire appliquer le respect de dis...</td>\n",
       "      <td>tableau</td>\n",
       "      <td>Activités des sièges sociaux</td>\n",
       "      <td>NEXITY</td>\n",
       "      <td>Nexity est aujourd hui leader sur les différen...</td>\n",
       "    </tr>\n",
       "  </tbody>\n",
       "</table>\n",
       "</div>"
      ],
      "text/plain": [
       "                                                jobs  \\\n",
       "0               Data Engineer sénior (F/H) CDI (H/F)   \n",
       "1             Data Consultant Stratégie Sénior (H/F)   \n",
       "2  Chef de projets Performance Durable/Energie/Da...   \n",
       "\n",
       "                                         description ID_dep  \\\n",
       "0  En tant que Data Engineer chez Quantmetry, vou...     75   \n",
       "1  Nous recrutons des personnes avec une appétenc...     75   \n",
       "2  Intégré(e) au sein de la Direction Performance...     92   \n",
       "\n",
       "                ville        date experience  \\\n",
       "0            PARIS 08  2023/07/12      5 ans   \n",
       "1            PARIS 08  2023/07/12      5 ans   \n",
       "2  ASNIERES SUR SEINE  2023/07/13      3 ans   \n",
       "\n",
       "                                              skills    tools  \\\n",
       "0  concevoir et gérer un projet, concevoir un log...      NaN   \n",
       "1  analyser les résultats d'un projet, décliner l...      NaN   \n",
       "2  contrôler et faire appliquer le respect de dis...  tableau   \n",
       "\n",
       "                                            industry     company  \\\n",
       "0  Conseil pour les affaires et autres conseils d...  QUANTMETRY   \n",
       "1  Conseil pour les affaires et autres conseils d...  QUANTMETRY   \n",
       "2                       Activités des sièges sociaux      NEXITY   \n",
       "\n",
       "                                 company_description  \n",
       "0  Pure player en Data et Intelligence Artificiel...  \n",
       "1  Pure player en Data et Intelligence Artificiel...  \n",
       "2  Nexity est aujourd hui leader sur les différen...  "
      ]
     },
     "execution_count": 3,
     "metadata": {},
     "output_type": "execute_result"
    }
   ],
   "source": [
    "jobs_df = pd.read_csv(\"../data/silver_data.csv\")\n",
    "# préparer un df avec uniquement les colonnes à utiliser pour le modèle\n",
    "df = jobs_df[[\"jobs\", \"description\", \"ID_dep\", \"ville\", \"date\", \"experience\", \"skills\", \"tools\", \"industry\", \"company\", \"company_description\"]]\n",
    "df.head(3)"
   ]
  },
  {
   "cell_type": "code",
   "execution_count": 4,
   "id": "1bdb9338-107f-4906-977c-8c9f3a74f22b",
   "metadata": {},
   "outputs": [
    {
     "data": {
      "application/vnd.jupyter.widget-view+json": {
       "model_id": "5b274639ddfd4914ad23e7032a095c77",
       "version_major": 2,
       "version_minor": 0
      },
      "text/plain": [
       "Downloading (…)lve/main/config.json:   0%|          | 0.00/625 [00:00<?, ?B/s]"
      ]
     },
     "metadata": {},
     "output_type": "display_data"
    },
    {
     "data": {
      "application/vnd.jupyter.widget-view+json": {
       "model_id": "da6a4f766ea347f4968b601da9140b67",
       "version_major": 2,
       "version_minor": 0
      },
      "text/plain": [
       "Downloading model.safetensors:   0%|          | 0.00/714M [00:00<?, ?B/s]"
      ]
     },
     "metadata": {},
     "output_type": "display_data"
    },
    {
     "name": "stderr",
     "output_type": "stream",
     "text": [
      "Some weights of BertForSequenceClassification were not initialized from the model checkpoint at bert-base-multilingual-cased and are newly initialized: ['classifier.bias', 'classifier.weight']\n",
      "You should probably TRAIN this model on a down-stream task to be able to use it for predictions and inference.\n"
     ]
    },
    {
     "data": {
      "application/vnd.jupyter.widget-view+json": {
       "model_id": "88e366587e4643028cd3e1434ea6d990",
       "version_major": 2,
       "version_minor": 0
      },
      "text/plain": [
       "Downloading (…)solve/main/vocab.txt:   0%|          | 0.00/996k [00:00<?, ?B/s]"
      ]
     },
     "metadata": {},
     "output_type": "display_data"
    },
    {
     "data": {
      "application/vnd.jupyter.widget-view+json": {
       "model_id": "e851c118075445c59e3a3fc8e9cd1f4c",
       "version_major": 2,
       "version_minor": 0
      },
      "text/plain": [
       "Downloading (…)okenizer_config.json:   0%|          | 0.00/29.0 [00:00<?, ?B/s]"
      ]
     },
     "metadata": {},
     "output_type": "display_data"
    }
   ],
   "source": [
    "# Initialiser le modèle et le tokenizer\n",
    "model_name = \"bert-base-multilingual-cased\"\n",
    "model = BertForSequenceClassification.from_pretrained(model_name)\n",
    "tokenizer = BertTokenizer.from_pretrained(model_name)"
   ]
  },
  {
   "cell_type": "code",
   "execution_count": 6,
   "id": "708565cf-1f0c-45c2-bba5-975bb92be727",
   "metadata": {},
   "outputs": [],
   "source": [
    "# # Créer un DataFrame à partir de la liste\n",
    "# df = pd.DataFrame(possible_titles, columns=[\"Possible Title\"])\n",
    "\n",
    "# # Sauvegarder le DataFrame au format CSV\n",
    "# df.to_csv(\"../data/possible_title.csv\", index=False)"
   ]
  },
  {
   "cell_type": "code",
   "execution_count": 7,
   "id": "3732e409-9915-4716-a6d6-e3457d34b877",
   "metadata": {},
   "outputs": [
    {
     "data": {
      "text/html": [
       "<div>\n",
       "<style scoped>\n",
       "    .dataframe tbody tr th:only-of-type {\n",
       "        vertical-align: middle;\n",
       "    }\n",
       "\n",
       "    .dataframe tbody tr th {\n",
       "        vertical-align: top;\n",
       "    }\n",
       "\n",
       "    .dataframe thead th {\n",
       "        text-align: right;\n",
       "    }\n",
       "</style>\n",
       "<table border=\"1\" class=\"dataframe\">\n",
       "  <thead>\n",
       "    <tr style=\"text-align: right;\">\n",
       "      <th></th>\n",
       "      <th>Possible Title</th>\n",
       "    </tr>\n",
       "  </thead>\n",
       "  <tbody>\n",
       "    <tr>\n",
       "      <th>0</th>\n",
       "      <td>ABAP Developer</td>\n",
       "    </tr>\n",
       "    <tr>\n",
       "      <th>1</th>\n",
       "      <td>ASIC Design Engineer</td>\n",
       "    </tr>\n",
       "    <tr>\n",
       "      <th>2</th>\n",
       "      <td>ASIC Engineer</td>\n",
       "    </tr>\n",
       "    <tr>\n",
       "      <th>3</th>\n",
       "      <td>ASP.NET Developer</td>\n",
       "    </tr>\n",
       "    <tr>\n",
       "      <th>4</th>\n",
       "      <td>Actuarial Associate</td>\n",
       "    </tr>\n",
       "  </tbody>\n",
       "</table>\n",
       "</div>"
      ],
      "text/plain": [
       "         Possible Title\n",
       "0        ABAP Developer\n",
       "1  ASIC Design Engineer\n",
       "2         ASIC Engineer\n",
       "3     ASP.NET Developer\n",
       "4   Actuarial Associate"
      ]
     },
     "execution_count": 7,
     "metadata": {},
     "output_type": "execute_result"
    }
   ],
   "source": [
    "possible_title_df = pd.read_csv(\"../data/possible_title.csv\")\n",
    "possible_title_df.head()"
   ]
  },
  {
   "cell_type": "code",
   "execution_count": 12,
   "id": "a21c2bc6-f0ca-4b8a-a32f-92eb5c2c81b5",
   "metadata": {},
   "outputs": [],
   "source": [
    "def predict_job_title(title_to_check):\n",
    "    max_prob = 0\n",
    "    best_title = \"\"\n",
    "    \n",
    "    for possible_title in possible_titles:\n",
    "        # Tokenizing title_to_check with possible_title\n",
    "        encoded_input = tokenizer(title_to_check, text_pair=possible_title, padding='max_length', truncation=True, max_length=150, return_tensors='pt')\n",
    "        outputs = model(**encoded_input)\n",
    "        \n",
    "        probs = softmax(outputs.logits, dim=1)\n",
    "        cur_prob = probs[0][1].item()\n",
    "        \n",
    "        if cur_prob > max_prob:\n",
    "            max_prob = cur_prob\n",
    "            best_title = possible_title\n",
    "\n",
    "    return best_title\n",
    "\n",
    "possible_titles = list(possible_title_df[\"Possible Title\"].values)\n",
    "jobs_list_1 = list(df[\"jobs\"].values)"
   ]
  },
  {
   "cell_type": "code",
   "execution_count": 9,
   "id": "bd645413-9908-4bb0-98dd-d2b6c78e3a86",
   "metadata": {},
   "outputs": [
    {
     "data": {
      "text/plain": [
       "['ABAP Developer',\n",
       " 'ASIC Design Engineer',\n",
       " 'ASIC Engineer',\n",
       " 'ASP.NET Developer',\n",
       " 'Actuarial Associate',\n",
       " 'Actuarial Consultant',\n",
       " 'Actuary',\n",
       " 'Administrator, Lotus Notes',\n",
       " 'Alliance Manager, Enterprise Software',\n",
       " 'Analyst Methods & Procedures']"
      ]
     },
     "execution_count": 9,
     "metadata": {},
     "output_type": "execute_result"
    }
   ],
   "source": [
    "possible_titles[:10]"
   ]
  },
  {
   "cell_type": "code",
   "execution_count": 15,
   "id": "88953ee4-e49f-41d7-bb9d-df3660c22a87",
   "metadata": {},
   "outputs": [],
   "source": [
    "jobs_list = jobs_list[:3]"
   ]
  },
  {
   "cell_type": "code",
   "execution_count": null,
   "id": "4f19b167-7fc0-41d1-9003-e209acb8ea81",
   "metadata": {},
   "outputs": [],
   "source": [
    "# Predict for each job in the list\n",
    "cleaned_jobs = [predict_job_title(job) for job in jobs_list]"
   ]
  },
  {
   "cell_type": "code",
   "execution_count": null,
   "id": "453ff96b-a2a4-41d4-ba3a-2df59be1f6d6",
   "metadata": {},
   "outputs": [],
   "source": [
    "len(cleaned_jobs)"
   ]
  },
  {
   "cell_type": "code",
   "execution_count": null,
   "id": "539cc3e2-e26e-495f-819f-f3f6811c85ed",
   "metadata": {},
   "outputs": [],
   "source": [
    "cleaned_jobs[:100]"
   ]
  },
  {
   "cell_type": "code",
   "execution_count": null,
   "id": "50a999a8-7050-462b-93cf-1fa1b6cea2d4",
   "metadata": {},
   "outputs": [],
   "source": [
    "# Replace jobs du df par la nouvelle liste de job clean"
   ]
  },
  {
   "cell_type": "code",
   "execution_count": null,
   "id": "56dc8a8e-712f-4bbd-b1df-df4add67a982",
   "metadata": {},
   "outputs": [],
   "source": []
  },
  {
   "cell_type": "code",
   "execution_count": null,
   "id": "080e4c12-99e7-4fc5-8d7d-a2c33e3308b2",
   "metadata": {},
   "outputs": [],
   "source": []
  },
  {
   "cell_type": "markdown",
   "id": "7fbc374e-a975-4240-9fd7-4117419c3f56",
   "metadata": {},
   "source": [
    "### Modèle pour obtenir job_description"
   ]
  },
  {
   "cell_type": "markdown",
   "id": "10f7661a-09e6-4b24-af49-fc33994f16ba",
   "metadata": {},
   "source": [
    "maintenant qu'on a les bon noms de job, on va :\n",
    "\n",
    "- \r\n",
    "séparer les descriptions (description de l'offre d'emploi) dans des listes différentes en fonction du jo- b\r\n",
    "les envoyer au modèle pour qu'il nous en ressort une description pour ce job."
   ]
  },
  {
   "cell_type": "code",
   "execution_count": 5,
   "id": "c2b52953-f41c-43db-b094-214a148c851d",
   "metadata": {},
   "outputs": [],
   "source": [
    "# import des librairies\n",
    "from transformers import T5ForConditionalGeneration, T5Tokenizer\n",
    "import pandas as pd\n",
    "import numpy as np "
   ]
  },
  {
   "cell_type": "code",
   "execution_count": null,
   "id": "2039de55-aefb-4e62-8e60-fa1421efd08d",
   "metadata": {},
   "outputs": [],
   "source": [
    "# Créons une liste de listes de descriptions, où chaque sous-liste contient toutes les descriptions associées à un titre de poste spécifique.\n",
    "grouped_descriptions = df.groupby('job_title_clean')['description'].apply(list).to_dict()"
   ]
  },
  {
   "cell_type": "code",
   "execution_count": null,
   "id": "98768205-ff1f-498d-a5f0-7e471c9151a4",
   "metadata": {},
   "outputs": [],
   "source": [
    "# initialize the model architecture and weights\n",
    "model = T5ForConditionalGeneration.from_pretrained(\"t5-base\")\n",
    "# initialize the model tokenizer\n",
    "tokenizer = T5Tokenizer.from_pretrained(\"t5-base\")"
   ]
  },
  {
   "cell_type": "code",
   "execution_count": null,
   "id": "244e16cd-e694-454e-adad-f388c782f6b4",
   "metadata": {},
   "outputs": [],
   "source": [
    "# Summariser chaque groupe de descriptions pour obtenir une description de poste\n",
    "def summarize_grouped_texts(text_groups, model, tokenizer):\n",
    "    summaries = {}\n",
    "    \n",
    "    for job_title, texts in text_groups.items():\n",
    "        # Join the texts into a single string\n",
    "        combined_text = ' '.join(texts)\n",
    "        \n",
    "        # Get the summary for this combined text\n",
    "        summary = summarize_texts([combined_text], model, tokenizer)[0]\n",
    "        \n",
    "        summaries[job_title] = summary\n",
    "        \n",
    "    return summaries"
   ]
  },
  {
   "cell_type": "code",
   "execution_count": null,
   "id": "d4bb146d-2188-42ed-a1ab-7a0ac28fe4b7",
   "metadata": {},
   "outputs": [],
   "source": [
    "summaries = summarize_grouped_texts(grouped_descriptions, model, tokenizer)"
   ]
  },
  {
   "cell_type": "code",
   "execution_count": null,
   "id": "be3bf569-c588-4a1b-9ffb-a4da95cc2763",
   "metadata": {},
   "outputs": [],
   "source": [
    "summaries[:3]"
   ]
  },
  {
   "cell_type": "code",
   "execution_count": null,
   "id": "4c3bcbc4-ffb7-4576-a9a6-eebe2c3f4b06",
   "metadata": {},
   "outputs": [],
   "source": [
    "df['job_description'] = df['job_title_clean'].map(summaries)"
   ]
  }
 ],
 "metadata": {
  "kernelspec": {
   "display_name": "Python 3 (ipykernel)",
   "language": "python",
   "name": "python3"
  },
  "language_info": {
   "codemirror_mode": {
    "name": "ipython",
    "version": 3
   },
   "file_extension": ".py",
   "mimetype": "text/x-python",
   "name": "python",
   "nbconvert_exporter": "python",
   "pygments_lexer": "ipython3",
   "version": "3.8.12"
  }
 },
 "nbformat": 4,
 "nbformat_minor": 5
}
