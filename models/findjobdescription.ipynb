{
 "cells": [
  {
   "cell_type": "code",
   "execution_count": 8,
   "id": "0e72f940-f14b-48b7-99b7-df5c279c767e",
   "metadata": {},
   "outputs": [],
   "source": [
    "# import des librairies \n",
    "import pandas as pd\n",
    "import matplotlib.pyplot as plt\n",
    "import math\n",
    "import numpy as np\n",
    "import pickle\n",
    "\n",
    "# clean data\n",
    "from transformers import BertTokenizer, BertForTokenClassification, BertForSequenceClassification\n",
    "import torch\n",
    "from torch.optim import Adam\n",
    "from torch.nn import CrossEntropyLoss\n",
    "from torch.nn.functional import softmax"
   ]
  },
  {
   "cell_type": "code",
   "execution_count": 16,
   "id": "7dccd4b9-ba53-47e9-806c-963e1974932f",
   "metadata": {},
   "outputs": [
    {
     "data": {
      "text/html": [
       "<div>\n",
       "<style scoped>\n",
       "    .dataframe tbody tr th:only-of-type {\n",
       "        vertical-align: middle;\n",
       "    }\n",
       "\n",
       "    .dataframe tbody tr th {\n",
       "        vertical-align: top;\n",
       "    }\n",
       "\n",
       "    .dataframe thead th {\n",
       "        text-align: right;\n",
       "    }\n",
       "</style>\n",
       "<table border=\"1\" class=\"dataframe\">\n",
       "  <thead>\n",
       "    <tr style=\"text-align: right;\">\n",
       "      <th></th>\n",
       "      <th>jobs</th>\n",
       "      <th>description</th>\n",
       "      <th>ID_dep</th>\n",
       "      <th>ville</th>\n",
       "      <th>date</th>\n",
       "      <th>experience</th>\n",
       "      <th>skills</th>\n",
       "      <th>tools</th>\n",
       "      <th>industry</th>\n",
       "      <th>company</th>\n",
       "      <th>company_description</th>\n",
       "    </tr>\n",
       "  </thead>\n",
       "  <tbody>\n",
       "    <tr>\n",
       "      <th>0</th>\n",
       "      <td>Data Engineer sénior (F/H) CDI (H/F)</td>\n",
       "      <td>En tant que Data Engineer chez Quantmetry, vou...</td>\n",
       "      <td>75</td>\n",
       "      <td>PARIS 08</td>\n",
       "      <td>2023/07/12</td>\n",
       "      <td>5 ans</td>\n",
       "      <td>concevoir et gérer un projet, concevoir un log...</td>\n",
       "      <td>NaN</td>\n",
       "      <td>Conseil pour les affaires et autres conseils d...</td>\n",
       "      <td>QUANTMETRY</td>\n",
       "      <td>Pure player en Data et Intelligence Artificiel...</td>\n",
       "    </tr>\n",
       "    <tr>\n",
       "      <th>1</th>\n",
       "      <td>Data Consultant Stratégie Sénior (H/F)</td>\n",
       "      <td>Nous recrutons des personnes avec une appétenc...</td>\n",
       "      <td>75</td>\n",
       "      <td>PARIS 08</td>\n",
       "      <td>2023/07/12</td>\n",
       "      <td>5 ans</td>\n",
       "      <td>analyser les résultats d'un projet, décliner l...</td>\n",
       "      <td>NaN</td>\n",
       "      <td>Conseil pour les affaires et autres conseils d...</td>\n",
       "      <td>QUANTMETRY</td>\n",
       "      <td>Pure player en Data et Intelligence Artificiel...</td>\n",
       "    </tr>\n",
       "    <tr>\n",
       "      <th>2</th>\n",
       "      <td>Chef de projets Performance Durable/Energie/Da...</td>\n",
       "      <td>Intégré(e) au sein de la Direction Performance...</td>\n",
       "      <td>92</td>\n",
       "      <td>ASNIERES SUR SEINE</td>\n",
       "      <td>2023/07/13</td>\n",
       "      <td>3 ans</td>\n",
       "      <td>contrôler et faire appliquer le respect de dis...</td>\n",
       "      <td>tableau</td>\n",
       "      <td>Activités des sièges sociaux</td>\n",
       "      <td>NEXITY</td>\n",
       "      <td>Nexity est aujourd hui leader sur les différen...</td>\n",
       "    </tr>\n",
       "  </tbody>\n",
       "</table>\n",
       "</div>"
      ],
      "text/plain": [
       "                                                jobs  \\\n",
       "0               Data Engineer sénior (F/H) CDI (H/F)   \n",
       "1             Data Consultant Stratégie Sénior (H/F)   \n",
       "2  Chef de projets Performance Durable/Energie/Da...   \n",
       "\n",
       "                                         description ID_dep  \\\n",
       "0  En tant que Data Engineer chez Quantmetry, vou...     75   \n",
       "1  Nous recrutons des personnes avec une appétenc...     75   \n",
       "2  Intégré(e) au sein de la Direction Performance...     92   \n",
       "\n",
       "                ville        date experience  \\\n",
       "0            PARIS 08  2023/07/12      5 ans   \n",
       "1            PARIS 08  2023/07/12      5 ans   \n",
       "2  ASNIERES SUR SEINE  2023/07/13      3 ans   \n",
       "\n",
       "                                              skills    tools  \\\n",
       "0  concevoir et gérer un projet, concevoir un log...      NaN   \n",
       "1  analyser les résultats d'un projet, décliner l...      NaN   \n",
       "2  contrôler et faire appliquer le respect de dis...  tableau   \n",
       "\n",
       "                                            industry     company  \\\n",
       "0  Conseil pour les affaires et autres conseils d...  QUANTMETRY   \n",
       "1  Conseil pour les affaires et autres conseils d...  QUANTMETRY   \n",
       "2                       Activités des sièges sociaux      NEXITY   \n",
       "\n",
       "                                 company_description  \n",
       "0  Pure player en Data et Intelligence Artificiel...  \n",
       "1  Pure player en Data et Intelligence Artificiel...  \n",
       "2  Nexity est aujourd hui leader sur les différen...  "
      ]
     },
     "execution_count": 16,
     "metadata": {},
     "output_type": "execute_result"
    }
   ],
   "source": [
    "jobs_df = pd.read_csv(\"../data/silver_data.csv\")\n",
    "# préparer un df avec uniquement les colonnes à utiliser pour le modèle\n",
    "df = jobs_df[[\"jobs\", \"description\", \"ID_dep\", \"ville\", \"date\", \"experience\", \"skills\", \"tools\", \"industry\", \"company\", \"company_description\"]]\n",
    "df.head(3)"
   ]
  },
  {
   "cell_type": "markdown",
   "id": "55e58577-04d1-4e2c-90f1-2318cfbc4576",
   "metadata": {},
   "source": [
    "### Model"
   ]
  },
  {
   "cell_type": "markdown",
   "id": "0334ca3b-ba78-4d8c-8ec1-119d26986dff",
   "metadata": {},
   "source": [
    "Utiliser un modèle IA pour extraire les bon nom de job (ex:Data Engineer pour la Qualité Totale H/F (H/F) --> Data Engineer)"
   ]
  },
  {
   "cell_type": "code",
   "execution_count": 35,
   "id": "66a423a4-9ca8-4d5b-8c8b-23dd9c5e6c79",
   "metadata": {},
   "outputs": [
    {
     "name": "stderr",
     "output_type": "stream",
     "text": [
      "Some weights of BertForSequenceClassification were not initialized from the model checkpoint at bert-base-multilingual-cased and are newly initialized: ['classifier.bias', 'classifier.weight']\n",
      "You should probably TRAIN this model on a down-stream task to be able to use it for predictions and inference.\n"
     ]
    }
   ],
   "source": [
    "# Initialiser le modèle et le tokenizer\n",
    "model_name = \"bert-base-multilingual-cased\"\n",
    "model = BertForSequenceClassification.from_pretrained(model_name)\n",
    "tokenizer = BertTokenizer.from_pretrained(model_name)"
   ]
  },
  {
   "cell_type": "code",
   "execution_count": 12,
   "id": "245ead94-0735-4536-8a37-1d10d4c7605a",
   "metadata": {},
   "outputs": [],
   "source": [
    "# # Créer un DataFrame à partir de la liste\n",
    "# df = pd.DataFrame(possible_titles, columns=[\"Possible Title\"])\n",
    "\n",
    "# # Sauvegarder le DataFrame au format CSV\n",
    "# df.to_csv(\"../data/possible_title.csv\", index=False)"
   ]
  },
  {
   "cell_type": "code",
   "execution_count": 11,
   "id": "c0541b59-5399-4483-8444-c0c40962d3b9",
   "metadata": {},
   "outputs": [
    {
     "data": {
      "text/html": [
       "<div>\n",
       "<style scoped>\n",
       "    .dataframe tbody tr th:only-of-type {\n",
       "        vertical-align: middle;\n",
       "    }\n",
       "\n",
       "    .dataframe tbody tr th {\n",
       "        vertical-align: top;\n",
       "    }\n",
       "\n",
       "    .dataframe thead th {\n",
       "        text-align: right;\n",
       "    }\n",
       "</style>\n",
       "<table border=\"1\" class=\"dataframe\">\n",
       "  <thead>\n",
       "    <tr style=\"text-align: right;\">\n",
       "      <th></th>\n",
       "      <th>Possible Title</th>\n",
       "    </tr>\n",
       "  </thead>\n",
       "  <tbody>\n",
       "    <tr>\n",
       "      <th>0</th>\n",
       "      <td>ABAP Developer</td>\n",
       "    </tr>\n",
       "    <tr>\n",
       "      <th>1</th>\n",
       "      <td>ASIC Design Engineer</td>\n",
       "    </tr>\n",
       "    <tr>\n",
       "      <th>2</th>\n",
       "      <td>ASIC Engineer</td>\n",
       "    </tr>\n",
       "    <tr>\n",
       "      <th>3</th>\n",
       "      <td>ASP.NET Developer</td>\n",
       "    </tr>\n",
       "    <tr>\n",
       "      <th>4</th>\n",
       "      <td>Actuarial Associate</td>\n",
       "    </tr>\n",
       "  </tbody>\n",
       "</table>\n",
       "</div>"
      ],
      "text/plain": [
       "         Possible Title\n",
       "0        ABAP Developer\n",
       "1  ASIC Design Engineer\n",
       "2         ASIC Engineer\n",
       "3     ASP.NET Developer\n",
       "4   Actuarial Associate"
      ]
     },
     "execution_count": 11,
     "metadata": {},
     "output_type": "execute_result"
    }
   ],
   "source": [
    "possible_title_df = pd.read_csv(\"../data/possible_title.csv\")\n",
    "possible_title_df.head()"
   ]
  },
  {
   "cell_type": "code",
   "execution_count": 38,
   "id": "95496ec5-818f-4049-9d5f-3829b240d5f5",
   "metadata": {},
   "outputs": [],
   "source": [
    "def predict_job_title(title_to_check):\n",
    "    max_prob = 0\n",
    "    best_title = \"\"\n",
    "    \n",
    "    for possible_title in possible_titles:\n",
    "        # Tokenizing title_to_check with possible_title\n",
    "        encoded_input = tokenizer(title_to_check, text_pair=possible_title, padding='max_length', truncation=True, max_length=150, return_tensors='pt')\n",
    "        outputs = model(**encoded_input)\n",
    "        \n",
    "        probs = softmax(outputs.logits, dim=1)\n",
    "        cur_prob = probs[0][1].item()\n",
    "        \n",
    "        if cur_prob > max_prob:\n",
    "            max_prob = cur_prob\n",
    "            best_title = possible_title\n",
    "\n",
    "    return best_title\n",
    "\n",
    "possible_titles = list(possible_title_df[\"Possible Title\"].values)\n",
    "jobs_list = list(df[\"jobs\"].values)"
   ]
  },
  {
   "cell_type": "code",
   "execution_count": 39,
   "id": "d6280a16-2678-447d-b0f9-a4d73bae4e84",
   "metadata": {},
   "outputs": [
    {
     "data": {
      "text/plain": [
       "['ABAP Developer',\n",
       " 'ASIC Design Engineer',\n",
       " 'ASIC Engineer',\n",
       " 'ASP.NET Developer',\n",
       " 'Actuarial Associate',\n",
       " 'Actuarial Consultant',\n",
       " 'Actuary',\n",
       " 'Administrator, Lotus Notes',\n",
       " 'Alliance Manager, Enterprise Software',\n",
       " 'Analyst Methods & Procedures']"
      ]
     },
     "execution_count": 39,
     "metadata": {},
     "output_type": "execute_result"
    }
   ],
   "source": [
    "possible_titles[:10]"
   ]
  },
  {
   "cell_type": "code",
   "execution_count": 40,
   "id": "1873875f-3c23-4bd6-ac81-4c357fb3afbd",
   "metadata": {},
   "outputs": [
    {
     "data": {
      "text/plain": [
       "['Data Engineer sénior (F/H) CDI (H/F)',\n",
       " 'Data Consultant Stratégie Sénior (H/F)',\n",
       " 'Chef de projets Performance Durable/Energie/Data H/F - CDI (H/F)',\n",
       " 'Ingénieur Data H/F',\n",
       " 'Data Engineer pour la Qualité Totale H/F (H/F)',\n",
       " 'Consultant senior SIG/DATA FME (H/F)',\n",
       " 'Lead Data Scientist (H/F)',\n",
       " 'Technicien Supply Chain data SAP(h/f) (H/F)',\n",
       " 'Consultant Data Architect (F/H) CDI   (H/F)',\n",
       " 'Data Manager Données Cliniques F/H - Système, réseaux, données (H/F)']"
      ]
     },
     "execution_count": 40,
     "metadata": {},
     "output_type": "execute_result"
    }
   ],
   "source": [
    "jobs_list[:10]"
   ]
  },
  {
   "cell_type": "code",
   "execution_count": null,
   "id": "44c491cf-7a22-4e53-bd38-a9896b86d0a0",
   "metadata": {
    "scrolled": true
   },
   "outputs": [],
   "source": [
    "# Predict for each job in the list\n",
    "cleaned_jobs = [predict_job_title(job) for job in jobs_list]"
   ]
  },
  {
   "cell_type": "code",
   "execution_count": 30,
   "id": "3b5193ea-743d-45ea-9452-5c0bcf9931fe",
   "metadata": {},
   "outputs": [
    {
     "data": {
      "text/plain": [
       "2613"
      ]
     },
     "execution_count": 30,
     "metadata": {},
     "output_type": "execute_result"
    }
   ],
   "source": [
    "len(cleaned_jobs)"
   ]
  },
  {
   "cell_type": "code",
   "execution_count": 33,
   "id": "74dd74dc-ea44-418b-bbac-fc9dea173237",
   "metadata": {},
   "outputs": [
    {
     "data": {
      "text/plain": [
       "['ABAP Developer',\n",
       " 'ABAP Developer',\n",
       " 'ABAP Developer',\n",
       " 'ABAP Developer',\n",
       " 'ABAP Developer',\n",
       " 'ABAP Developer',\n",
       " 'ABAP Developer',\n",
       " 'ABAP Developer',\n",
       " 'ABAP Developer',\n",
       " 'ABAP Developer',\n",
       " 'ABAP Developer',\n",
       " 'ABAP Developer',\n",
       " 'ABAP Developer',\n",
       " 'ABAP Developer',\n",
       " 'ABAP Developer',\n",
       " 'ABAP Developer',\n",
       " 'ABAP Developer',\n",
       " 'ABAP Developer',\n",
       " 'ABAP Developer',\n",
       " 'ABAP Developer',\n",
       " 'ABAP Developer',\n",
       " 'ABAP Developer',\n",
       " 'ABAP Developer',\n",
       " 'ABAP Developer',\n",
       " 'ABAP Developer',\n",
       " 'ABAP Developer',\n",
       " 'ABAP Developer',\n",
       " 'ABAP Developer',\n",
       " 'ABAP Developer',\n",
       " 'ABAP Developer',\n",
       " 'ABAP Developer',\n",
       " 'ABAP Developer',\n",
       " 'ABAP Developer',\n",
       " 'ABAP Developer',\n",
       " 'ABAP Developer',\n",
       " 'ABAP Developer',\n",
       " 'ABAP Developer',\n",
       " 'ABAP Developer',\n",
       " 'ABAP Developer',\n",
       " 'ABAP Developer',\n",
       " 'ABAP Developer',\n",
       " 'ABAP Developer',\n",
       " 'ABAP Developer',\n",
       " 'ABAP Developer',\n",
       " 'ABAP Developer',\n",
       " 'ABAP Developer',\n",
       " 'ABAP Developer',\n",
       " 'ABAP Developer',\n",
       " 'ABAP Developer',\n",
       " 'ABAP Developer',\n",
       " 'ABAP Developer',\n",
       " 'ABAP Developer',\n",
       " 'ABAP Developer',\n",
       " 'ABAP Developer',\n",
       " 'ABAP Developer',\n",
       " 'ABAP Developer',\n",
       " 'ABAP Developer',\n",
       " 'ABAP Developer',\n",
       " 'ABAP Developer',\n",
       " 'ABAP Developer',\n",
       " 'ABAP Developer',\n",
       " 'ABAP Developer',\n",
       " 'ABAP Developer',\n",
       " 'ABAP Developer',\n",
       " 'ABAP Developer',\n",
       " 'ABAP Developer',\n",
       " 'ABAP Developer',\n",
       " 'ABAP Developer',\n",
       " 'ABAP Developer',\n",
       " 'ABAP Developer',\n",
       " 'ABAP Developer',\n",
       " 'ABAP Developer',\n",
       " 'ABAP Developer',\n",
       " 'ABAP Developer',\n",
       " 'ABAP Developer',\n",
       " 'ABAP Developer',\n",
       " 'ABAP Developer',\n",
       " 'ABAP Developer',\n",
       " 'ABAP Developer',\n",
       " 'ABAP Developer',\n",
       " 'ABAP Developer',\n",
       " 'ABAP Developer',\n",
       " 'ABAP Developer',\n",
       " 'ABAP Developer',\n",
       " 'ABAP Developer',\n",
       " 'ABAP Developer',\n",
       " 'ABAP Developer',\n",
       " 'ABAP Developer',\n",
       " 'ABAP Developer',\n",
       " 'ABAP Developer',\n",
       " 'ABAP Developer',\n",
       " 'ABAP Developer',\n",
       " 'ABAP Developer',\n",
       " 'ABAP Developer',\n",
       " 'ABAP Developer',\n",
       " 'ABAP Developer',\n",
       " 'ABAP Developer',\n",
       " 'ABAP Developer',\n",
       " 'ABAP Developer',\n",
       " 'ABAP Developer']"
      ]
     },
     "execution_count": 33,
     "metadata": {},
     "output_type": "execute_result"
    }
   ],
   "source": [
    "cleaned_jobs[:100]"
   ]
  },
  {
   "cell_type": "code",
   "execution_count": null,
   "id": "ad6f73bb-e911-4f58-b1fa-ab4bce9e8342",
   "metadata": {},
   "outputs": [],
   "source": [
    "# Replace jobs du df par la nouvelle liste de job clean\n"
   ]
  },
  {
   "cell_type": "code",
   "execution_count": null,
   "id": "92b39fc3-8136-4b65-9d6d-47779e7a7fd2",
   "metadata": {},
   "outputs": [],
   "source": []
  },
  {
   "cell_type": "code",
   "execution_count": null,
   "id": "ca5e679e-c2b4-4227-a7e8-13a42f722871",
   "metadata": {},
   "outputs": [],
   "source": []
  },
  {
   "cell_type": "markdown",
   "id": "5ce5158b-d2fd-4245-bcdc-1fc282deeb5b",
   "metadata": {},
   "source": [
    "### Modèle pour obtenir job_description"
   ]
  },
  {
   "cell_type": "markdown",
   "id": "867507ae-16e7-4b50-9aa1-4b8106feaec8",
   "metadata": {},
   "source": [
    "maintenant qu'on a les bon noms de job, on va : \n",
    "- séparer les descriptions (description de l'offre d'emploi) dans des listes différentes en fonction du job\n",
    "- les envoyer au modèle pour qu'il nous en ressort une description pour ce job."
   ]
  },
  {
   "cell_type": "code",
   "execution_count": null,
   "id": "9e82ad9a-58aa-4148-a82e-f597d7922084",
   "metadata": {},
   "outputs": [],
   "source": [
    "# import des librairies\n",
    "from transformers import T5ForConditionalGeneration, T5Tokenizer\n",
    "import pandas as pd\n",
    "import numpy as np "
   ]
  },
  {
   "cell_type": "code",
   "execution_count": null,
   "id": "c275fa4d-af13-4c79-b17c-46d255aed0b5",
   "metadata": {},
   "outputs": [],
   "source": [
    "# Créons une liste de listes de descriptions, où chaque sous-liste contient toutes les descriptions associées à un titre de poste spécifique.\n",
    "grouped_descriptions = df.groupby('job_title_clean')['description'].apply(list).to_dict()"
   ]
  },
  {
   "cell_type": "code",
   "execution_count": null,
   "id": "609f1557-a10b-48e1-8024-8f7ce8cc25e7",
   "metadata": {},
   "outputs": [],
   "source": [
    "# initialize the model architecture and weights\n",
    "model = T5ForConditionalGeneration.from_pretrained(\"t5-base\")\n",
    "# initialize the model tokenizer\n",
    "tokenizer = T5Tokenizer.from_pretrained(\"t5-base\")"
   ]
  },
  {
   "cell_type": "code",
   "execution_count": null,
   "id": "4a7f6283-ea0d-4dbc-b8c2-a4bae60afd66",
   "metadata": {},
   "outputs": [],
   "source": [
    "# Summariser chaque groupe de descriptions pour obtenir une description de poste\n",
    "def summarize_grouped_texts(text_groups, model, tokenizer):\n",
    "    summaries = {}\n",
    "    \n",
    "    for job_title, texts in text_groups.items():\n",
    "        # Join the texts into a single string\n",
    "        combined_text = ' '.join(texts)\n",
    "        \n",
    "        # Get the summary for this combined text\n",
    "        summary = summarize_texts([combined_text], model, tokenizer)[0]\n",
    "        \n",
    "        summaries[job_title] = summary\n",
    "        \n",
    "    return summaries"
   ]
  },
  {
   "cell_type": "code",
   "execution_count": null,
   "id": "b77ea58a-7f48-4a71-8a1b-b65c50cf3259",
   "metadata": {},
   "outputs": [],
   "source": [
    "summaries = summarize_grouped_texts(grouped_descriptions, model, tokenizer)"
   ]
  },
  {
   "cell_type": "code",
   "execution_count": null,
   "id": "c301af99-d49f-4d30-a43e-6cc6f9800cce",
   "metadata": {},
   "outputs": [],
   "source": [
    "summaries[:3]"
   ]
  },
  {
   "cell_type": "code",
   "execution_count": null,
   "id": "ff2aeb9f-a5da-4991-a036-d173e0272dc0",
   "metadata": {},
   "outputs": [],
   "source": [
    "df['job_description'] = df['job_title_clean'].map(summaries)"
   ]
  }
 ],
 "metadata": {
  "kernelspec": {
   "display_name": "Python 3 (ipykernel)",
   "language": "python",
   "name": "python3"
  },
  "language_info": {
   "codemirror_mode": {
    "name": "ipython",
    "version": 3
   },
   "file_extension": ".py",
   "mimetype": "text/x-python",
   "name": "python",
   "nbconvert_exporter": "python",
   "pygments_lexer": "ipython3",
   "version": "3.8.12"
  }
 },
 "nbformat": 4,
 "nbformat_minor": 5
}
